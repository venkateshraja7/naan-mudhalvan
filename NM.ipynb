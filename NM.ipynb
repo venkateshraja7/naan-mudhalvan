{
  "nbformat": 4,
  "nbformat_minor": 0,
  "metadata": {
    "colab": {
      "provenance": []
    },
    "kernelspec": {
      "name": "python3",
      "display_name": "Python 3"
    },
    "language_info": {
      "name": "python"
    }
  },
  "cells": [
    {
      "cell_type": "code",
      "execution_count": null,
      "metadata": {
        "colab": {
          "base_uri": "https://localhost:8080/"
        },
        "id": "Hi_9m-0IIMC2",
        "outputId": "d50d95f0-24d8-495f-9c13-62ac3435f30a"
      },
      "outputs": [
        {
          "output_type": "stream",
          "name": "stdout",
          "text": [
            "Mounted at /content/drive\n"
          ]
        }
      ],
      "source": [
        "from google.colab import drive\n",
        "drive.mount('/content/drive')"
      ]
    },
    {
      "cell_type": "code",
      "source": [
        "import numpy as np\n",
        "import tensorflow as tf\n",
        "from tensorflow.keras import layers, models, datasets\n",
        "\n",
        "# Load and preprocess the dataset\n",
        "(X_train, y_train), (X_test, y_test) = datasets.mnist.load_data()\n",
        "X_train, X_test = X_train / 255.0, X_test / 255.0  # Normalize pixel values to range [0, 1]\n",
        "\n",
        "# Define the CNN model\n",
        "model = models.Sequential([\n",
        "    layers.Conv2D(32, (3, 3), activation='relu', input_shape=(28, 28, 1)),\n",
        "    layers.MaxPooling2D((2, 2)),\n",
        "    layers.Conv2D(64, (3, 3), activation='relu'),\n",
        "    layers.MaxPooling2D((2, 2)),\n",
        "    layers.Conv2D(64, (3, 3), activation='relu'),\n",
        "    layers.Flatten(),\n",
        "    layers.Dense(64, activation='relu'),\n",
        "    layers.Dense(10, activation='softmax')\n",
        "])\n",
        "\n",
        "# Compile the model\n",
        "model.compile(optimizer='adam',\n",
        "              loss='sparse_categorical_crossentropy',\n",
        "              metrics=['accuracy'])\n",
        "\n",
        "# Train the model\n",
        "model.fit(X_train.reshape(-1, 28, 28, 1), y_train, epochs=5, batch_size=64)\n",
        "\n",
        "# Evaluate the model\n",
        "test_loss, test_acc = model.evaluate(X_test.reshape(-1, 28, 28, 1), y_test, verbose=2)\n",
        "print('\\nTest accuracy:', test_acc)\n"
      ],
      "metadata": {
        "colab": {
          "base_uri": "https://localhost:8080/"
        },
        "id": "TQNxhoU4Mvf6",
        "outputId": "3ebc1017-fd17-4d32-a42c-5a6528b7c21a"
      },
      "execution_count": null,
      "outputs": [
        {
          "output_type": "stream",
          "name": "stdout",
          "text": [
            "Downloading data from https://storage.googleapis.com/tensorflow/tf-keras-datasets/mnist.npz\n",
            "11490434/11490434 [==============================] - 0s 0us/step\n",
            "Epoch 1/5\n",
            "938/938 [==============================] - 50s 51ms/step - loss: 0.1737 - accuracy: 0.9478\n",
            "Epoch 2/5\n",
            "938/938 [==============================] - 45s 48ms/step - loss: 0.0505 - accuracy: 0.9846\n",
            "Epoch 3/5\n",
            "938/938 [==============================] - 45s 48ms/step - loss: 0.0350 - accuracy: 0.9891\n",
            "Epoch 4/5\n",
            "938/938 [==============================] - 44s 47ms/step - loss: 0.0277 - accuracy: 0.9911\n",
            "Epoch 5/5\n",
            "938/938 [==============================] - 44s 47ms/step - loss: 0.0219 - accuracy: 0.9931\n",
            "313/313 - 2s - loss: 0.0283 - accuracy: 0.9909 - 2s/epoch - 7ms/step\n",
            "\n",
            "Test accuracy: 0.9908999800682068\n"
          ]
        }
      ]
    },
    {
      "cell_type": "code",
      "source": [],
      "metadata": {
        "id": "qJoo_7NcNekx"
      },
      "execution_count": null,
      "outputs": []
    },
    {
      "cell_type": "code",
      "source": [
        "import numpy as np\n",
        "import tensorflow as tf\n",
        "from tensorflow.keras import layers, models, datasets\n",
        "\n",
        "# Load and preprocess the dataset\n",
        "(X_train, y_train), (X_test, y_test) = datasets.mnist.load_data()\n",
        "X_train, X_test = X_train / 255.0, X_test / 255.0  # Normalize pixel values to range [0, 1]\n",
        "\n",
        "# Define the RNN model\n",
        "model = models.Sequential([\n",
        "    layers.LSTM(128, input_shape=(X_train.shape[1], X_train.shape[2])),\n",
        "    layers.Dense(10, activation='softmax')\n",
        "])\n",
        "\n",
        "# Compile the model\n",
        "model.compile(optimizer='adam',\n",
        "              loss='sparse_categorical_crossentropy',\n",
        "              metrics=['accuracy'])\n",
        "\n",
        "# Train the model\n",
        "model.fit(X_train, y_train, epochs=5, batch_size=64)\n",
        "\n",
        "# Evaluate the model\n",
        "test_loss, test_acc = model.evaluate(X_test, y_test, verbose=2)\n",
        "print('\\nTest accuracy:', test_acc)\n"
      ],
      "metadata": {
        "colab": {
          "base_uri": "https://localhost:8080/"
        },
        "id": "yU94ERjyNepf",
        "outputId": "1d408577-7585-4a14-947c-a627f1707107"
      },
      "execution_count": null,
      "outputs": [
        {
          "output_type": "stream",
          "name": "stdout",
          "text": [
            "Epoch 1/5\n",
            "938/938 [==============================] - 48s 48ms/step - loss: 0.3997 - accuracy: 0.8694\n",
            "Epoch 2/5\n",
            "938/938 [==============================] - 44s 47ms/step - loss: 0.1185 - accuracy: 0.9643\n",
            "Epoch 3/5\n",
            "938/938 [==============================] - 44s 47ms/step - loss: 0.0820 - accuracy: 0.9755\n",
            "Epoch 4/5\n",
            "938/938 [==============================] - 44s 47ms/step - loss: 0.0627 - accuracy: 0.9807\n",
            "Epoch 5/5\n",
            "938/938 [==============================] - 43s 46ms/step - loss: 0.0532 - accuracy: 0.9836\n",
            "313/313 - 4s - loss: 0.0586 - accuracy: 0.9820 - 4s/epoch - 12ms/step\n",
            "\n",
            "Test accuracy: 0.9819999933242798\n"
          ]
        }
      ]
    },
    {
      "cell_type": "code",
      "source": [
        "\n"
      ],
      "metadata": {
        "colab": {
          "base_uri": "https://localhost:8080/"
        },
        "id": "E1KwOiomOLH_",
        "outputId": "103d9cbe-cae7-4c63-adf7-4639cc8aee8b"
      },
      "execution_count": null,
      "outputs": [
        {
          "output_type": "stream",
          "name": "stdout",
          "text": [
            "Epoch 1/5\n",
            "938/938 [==============================] - 4s 3ms/step - loss: 0.2761 - accuracy: 0.9206\n",
            "Epoch 2/5\n",
            "938/938 [==============================] - 3s 3ms/step - loss: 0.1132 - accuracy: 0.9664\n",
            "Epoch 3/5\n",
            "938/938 [==============================] - 4s 5ms/step - loss: 0.0769 - accuracy: 0.9765\n",
            "Epoch 4/5\n",
            "938/938 [==============================] - 3s 4ms/step - loss: 0.0597 - accuracy: 0.9807\n",
            "Epoch 5/5\n",
            "938/938 [==============================] - 3s 3ms/step - loss: 0.0453 - accuracy: 0.9850\n",
            "313/313 - 1s - loss: 0.0813 - accuracy: 0.9750 - 555ms/epoch - 2ms/step\n",
            "\n",
            "Test accuracy: 0.9750000238418579\n"
          ]
        }
      ]
    }
  ]
}